{
  "nbformat": 4,
  "nbformat_minor": 0,
  "metadata": {
    "colab": {
      "provenance": [],
      "authorship_tag": "ABX9TyNvEAgDVhDosdt1b2yJXdEX",
      "include_colab_link": true
    },
    "kernelspec": {
      "name": "python3",
      "display_name": "Python 3"
    },
    "language_info": {
      "name": "python"
    }
  },
  "cells": [
    {
      "cell_type": "markdown",
      "metadata": {
        "id": "view-in-github",
        "colab_type": "text"
      },
      "source": [
        "<a href=\"https://colab.research.google.com/github/JulioHonda22/Otica/blob/main/Untitled0.ipynb\" target=\"_parent\"><img src=\"https://colab.research.google.com/assets/colab-badge.svg\" alt=\"Open In Colab\"/></a>"
      ]
    },
    {
      "cell_type": "code",
      "execution_count": 16,
      "metadata": {
        "colab": {
          "base_uri": "https://localhost:8080/"
        },
        "id": "QLpYivpUD1yF",
        "outputId": "b1818a9e-9d6f-4691-f847-9dcf8fc449f0"
      },
      "outputs": [
        {
          "output_type": "stream",
          "name": "stderr",
          "text": [
            "2025-05-17 23:54:04.170 Thread 'MainThread': missing ScriptRunContext! This warning can be ignored when running in bare mode.\n",
            "2025-05-17 23:54:04.174 Thread 'MainThread': missing ScriptRunContext! This warning can be ignored when running in bare mode.\n"
          ]
        },
        {
          "output_type": "execute_result",
          "data": {
            "text/plain": [
              "DeltaGenerator()"
            ]
          },
          "metadata": {},
          "execution_count": 16
        }
      ],
      "source": [
        "# --- Célula 1: Instalações e Configuração Inicial ---\n",
        "\n",
        "# Instala as bibliotecas necessárias\n",
        "!pip install -q -U google-generativeai streamlit pandas\n",
        "\n",
        "# Importa todas as bibliotecas a serem usadas\n",
        "import google.generativeai as genai\n",
        "import os\n",
        "import pandas as pd\n",
        "import csv\n",
        "from datetime import datetime\n",
        "import streamlit as st # Biblioteca para criar a interface web\n",
        "\n",
        "# --- ATENÇÃO: COLOQUE SUA API KEY AQUI ---\n",
        "# Substitua \"SUA_API_KEY_AQUI\" pela sua chave real do Google Gemini.\n",
        "API_KEY = \"GOOGLE_API_KEY\" # <<<<< TROQUE AQUI PELA SUA CHAVE REAL!\n",
        "genai.configure(api_key=API_KEY)\n",
        "\n",
        "# Escolhe o modelo do Gemini para interações de texto\n",
        "model = genai.GenerativeModel('gemini-pro')\n",
        "\n",
        "# Mensagem de feedback inicial no Streamlit\n",
        "st.success(\"Configuração inicial concluída. Modelo Gemini-Pro carregado.\")"
      ]
    },
    {
      "cell_type": "code",
      "source": [
        "# --- Célula 2: Montar Google Drive e Definir Caminhos ---\n",
        "\n",
        "# Monta o Google Drive no ambiente do Colab.\n",
        "# Uma janela de autenticação do Google aparecerá; siga as instruções para autorizar.\n",
        "from google.colab import drive\n",
        "drive.mount('/content/drive')\n",
        "\n",
        "# --- DEFINA O CAMINHO DA SUA PASTA DE DADOS DE CLIENTES AQUI ---\n",
        "# Certifique-se de que esta pasta exista no seu Google Drive.\n",
        "DADOS_CLIENTES_FOLDER = \"/content/drive/MyDrive/dados_clientes_otica\" # Pasta para o CSV de clientes\n",
        "CSV_CLIENTES_FILE = os.path.join(DADOS_CLIENTES_FOLDER, \"clientes_cadastrados.csv\")\n",
        "\n",
        "# Cria a pasta de dados de clientes no Drive se ela ainda não existir.\n",
        "os.makedirs(DADOS_CLIENTES_FOLDER, exist_ok=True)\n",
        "\n",
        "st.success(f\"Google Drive montado. Caminhos de arquivos configurados.\")"
      ],
      "metadata": {
        "colab": {
          "base_uri": "https://localhost:8080/"
        },
        "id": "wiGw6m_WEfg_",
        "outputId": "fc16b675-fae6-478b-a1f5-3f3d5084768f"
      },
      "execution_count": 7,
      "outputs": [
        {
          "output_type": "stream",
          "name": "stderr",
          "text": [
            "2025-05-17 21:12:43.728 Thread 'MainThread': missing ScriptRunContext! This warning can be ignored when running in bare mode.\n",
            "2025-05-17 21:12:43.730 Thread 'MainThread': missing ScriptRunContext! This warning can be ignored when running in bare mode.\n"
          ]
        },
        {
          "output_type": "stream",
          "name": "stdout",
          "text": [
            "Drive already mounted at /content/drive; to attempt to forcibly remount, call drive.mount(\"/content/drive\", force_remount=True).\n"
          ]
        },
        {
          "output_type": "execute_result",
          "data": {
            "text/plain": [
              "DeltaGenerator()"
            ]
          },
          "metadata": {},
          "execution_count": 7
        }
      ]
    },
    {
      "cell_type": "code",
      "source": [
        "# --- Célula 3: Funções do Gemini ---\n",
        "\n",
        "def gerar_texto_otica(tipo_texto: str, entrada_usuario: str) -> str:\n",
        "    \"\"\"\n",
        "    Gera textos relevantes para uma ótica usando o Google Gemini, com base no tipo e entrada do usuário.\n",
        "\n",
        "    Args:\n",
        "        tipo_texto (str): O tipo de texto a ser gerado ('faq', 'descricao_produto', 'post_redes_sociais').\n",
        "        entrada_usuario (str): A pergunta, características do produto ou tópico para o Gemini.\n",
        "\n",
        "    Returns:\n",
        "        str: O texto gerado pelo Gemini ou uma mensagem de erro.\n",
        "    \"\"\"\n",
        "    prompt = \"\"\n",
        "    if tipo_texto == 'faq':\n",
        "        prompt = f\"\"\"\n",
        "        Você é um atendente de ótica experiente e muito prestativo.\n",
        "        Responda à seguinte pergunta de um cliente de forma clara, amigável e informativa,\n",
        "        com foco nos benefícios para o cliente. Use uma linguagem simples.\n",
        "\n",
        "        Pergunta do Cliente:\n",
        "        {entrada_usuario}\n",
        "\n",
        "        Resposta:\n",
        "        \"\"\"\n",
        "    elif tipo_texto == 'descricao_produto':\n",
        "        prompt = f\"\"\"\n",
        "        Você é um especialista em marketing de óticas. Crie uma descrição atraente\n",
        "        e persuasiva para o seguinte produto de ótica, destacando seus diferenciais,\n",
        "        benefícios e para quem ele é mais indicado. Use linguagem envolvente e otimista.\n",
        "\n",
        "        Características do Produto:\n",
        "        {entrada_usuario}\n",
        "\n",
        "        Descrição do Produto:\n",
        "        \"\"\"\n",
        "    elif tipo_texto == 'post_redes_sociais':\n",
        "        prompt = f\"\"\"\n",
        "        Você é um criador de conteúdo para redes sociais de uma ótica.\n",
        "        Crie uma ideia de post curta e envolvente para Instagram/Facebook sobre o seguinte tema.\n",
        "        Use emojis relevantes e uma chamada para ação (CTA) ao final.\n",
        "\n",
        "        Tema:\n",
        "        {entrada_usuario}\n",
        "\n",
        "        Ideia de Post:\n",
        "        \"\"\"\n",
        "    else:\n",
        "        return \"Tipo de texto inválido. Escolha 'faq', 'descricao_produto' ou 'post_redes_sociais'.\"\n",
        "\n",
        "    try:\n",
        "        response = model.generate_content(prompt)\n",
        "        return response.text\n",
        "    except Exception as e:\n",
        "        return f\"Erro ao gerar texto com Gemini: {e}\\nPor favor, tente novamente.\"\n",
        "\n",
        "def analisar_sentimento_comentario(comentario: str) -> str:\n",
        "    \"\"\"\n",
        "    Analisa o sentimento de um comentário de cliente usando o Google Gemini,\n",
        "    identifica tópicos e sugere pontos de melhoria se o sentimento for negativo/neutro.\n",
        "\n",
        "    Args:\n",
        "        comentario (str): O texto do comentário do cliente.\n",
        "\n",
        "    Returns:\n",
        "        str: A análise completa, incluindo sentimento, tópicos e sugestões de melhoria.\n",
        "    \"\"\"\n",
        "    prompt = f\"\"\"\n",
        "    Você é um analista de feedback de clientes de uma ótica.\n",
        "    Analise o sentimento geral do seguinte comentário do cliente e classifique-o como:\n",
        "    - **Positivo** (se o cliente parece satisfeito)\n",
        "    - **Negativo** (se o cliente parece insatisfeito ou reclama)\n",
        "    - **Neutro** (se o comentário não expressa claramente um sentimento forte)\n",
        "\n",
        "    Identifique os **principais tópicos ou pontos abordados** no comentário\n",
        "    (ex: 'atendimento', 'preço', 'qualidade do produto', 'tempo de espera', 'variedade', 'limpeza', 'pós-venda').\n",
        "\n",
        "    **Se o sentimento for Negativo ou Neutro, identifique e sugira 2 a 3 pontos de melhoria específicos e acionáveis** para a ótica.\n",
        "    Esses pontos devem ser concisos e focar em como resolver a causa da insatisfação.\n",
        "\n",
        "    Comentário do Cliente:\n",
        "    \"{comentario}\"\n",
        "\n",
        "    Formato da Resposta:\n",
        "    Sentimento: [Positivo/Negativo/Neutro]\n",
        "    Tópicos Principais: [Lista de tópicos separados por vírgula]\n",
        "    Observações: [Breve resumo da análise]\n",
        "    Pontos de Melhoria (se aplicável):\n",
        "    - [Sugestão 1]\n",
        "    - [Sugestão 2]\n",
        "    \"\"\"\n",
        "    try:\n",
        "        response = model.generate_content(prompt)\n",
        "        return response.text\n",
        "    except Exception as e:\n",
        "        return f\"Erro ao analisar comentário com Gemini: {e}\\nPor favor, tente novamente.\"\n",
        "\n",
        "st.success(\"Funções do Gemini (geração de texto e análise de sentimento) carregadas.\")"
      ],
      "metadata": {
        "colab": {
          "base_uri": "https://localhost:8080/"
        },
        "id": "IcowxGdfEjdZ",
        "outputId": "98cfa08a-a3fc-4f85-9328-291b1d9d7105"
      },
      "execution_count": 8,
      "outputs": [
        {
          "output_type": "stream",
          "name": "stderr",
          "text": [
            "2025-05-17 21:12:48.487 Thread 'MainThread': missing ScriptRunContext! This warning can be ignored when running in bare mode.\n",
            "2025-05-17 21:12:48.489 Thread 'MainThread': missing ScriptRunContext! This warning can be ignored when running in bare mode.\n"
          ]
        },
        {
          "output_type": "execute_result",
          "data": {
            "text/plain": [
              "DeltaGenerator()"
            ]
          },
          "metadata": {},
          "execution_count": 8
        }
      ]
    },
    {
      "cell_type": "code",
      "source": [
        "# --- Célula 4: Funções de Cadastro de Clientes (CSV Persistente) ---\n",
        "\n",
        "def salvar_cliente(nome: str, telefone: str) -> bool:\n",
        "    \"\"\"\n",
        "    Salva o nome e telefone do cliente em um arquivo CSV no Google Drive.\n",
        "    Cria o arquivo com cabeçalho se ele não existir.\n",
        "\n",
        "    Args:\n",
        "        nome (str): Nome completo do cliente.\n",
        "        telefone (str): Telefone do cliente (com DDD).\n",
        "\n",
        "    Returns:\n",
        "        bool: True se o cliente foi salvo com sucesso, False caso contrário.\n",
        "    \"\"\"\n",
        "    file_exists = os.path.isfile(CSV_CLIENTES_FILE) # Verifica se o arquivo já existe\n",
        "\n",
        "    try:\n",
        "        with open(CSV_CLIENTES_FILE, mode='a', newline='', encoding='utf-8') as file:\n",
        "            writer = csv.writer(file)\n",
        "            if not file_exists:\n",
        "                writer.writerow(['Nome', 'Telefone', 'Data_Cadastro']) # Escreve o cabeçalho se for um novo arquivo\n",
        "            data_cadastro = datetime.now().strftime(\"%Y-%m-%d %H:%M:%S\")\n",
        "            writer.writerow([nome, telefone, data_cadastro])\n",
        "        return True # Indica sucesso\n",
        "    except Exception as e:\n",
        "        st.error(f\"Erro ao salvar cliente no CSV: {e}\")\n",
        "        return False # Indica falha\n",
        "\n",
        "def ler_clientes_cadastrados() -> pd.DataFrame:\n",
        "    \"\"\"\n",
        "    Lê e retorna todos os clientes cadastrados do arquivo CSV.\n",
        "\n",
        "    Returns:\n",
        "        pd.DataFrame: Um DataFrame do pandas com os dados dos clientes,\n",
        "                      ou um DataFrame vazio se o arquivo não existir ou for inválido.\n",
        "    \"\"\"\n",
        "    if os.path.exists(CSV_CLIENTES_FILE):\n",
        "        try:\n",
        "            df = pd.read_csv(CSV_CLIENTES_FILE)\n",
        "            return df\n",
        "        except pd.errors.EmptyDataError:\n",
        "            st.info(\"O arquivo de clientes está vazio ou não tem cabeçalho válido.\")\n",
        "            return pd.DataFrame(columns=['Nome', 'Telefone', 'Data_Cadastro'])\n",
        "        except Exception as e:\n",
        "            st.error(f\"Erro ao ler o arquivo CSV de clientes: {e}\")\n",
        "            return pd.DataFrame(columns=['Nome', 'Telefone', 'Data_Cadastro'])\n",
        "    else:\n",
        "        st.info(\"Arquivo de clientes não encontrado. Nenhum cliente cadastrado ainda.\")\n",
        "        return pd.DataFrame(columns=['Nome', 'Telefone', 'Data_Cadastro'])\n",
        "\n",
        "st.success(\"Funções de cadastro de clientes carregadas.\")"
      ],
      "metadata": {
        "colab": {
          "base_uri": "https://localhost:8080/"
        },
        "id": "cSlFCKKOEnGX",
        "outputId": "e1754e23-7f96-4bc9-a1a9-3e51e7cdcf5d"
      },
      "execution_count": 9,
      "outputs": [
        {
          "output_type": "stream",
          "name": "stderr",
          "text": [
            "2025-05-17 21:12:55.041 Thread 'MainThread': missing ScriptRunContext! This warning can be ignored when running in bare mode.\n",
            "2025-05-17 21:12:55.042 Thread 'MainThread': missing ScriptRunContext! This warning can be ignored when running in bare mode.\n"
          ]
        },
        {
          "output_type": "execute_result",
          "data": {
            "text/plain": [
              "DeltaGenerator()"
            ]
          },
          "metadata": {},
          "execution_count": 9
        }
      ]
    },
    {
      "cell_type": "code",
      "source": [
        "# --- Célula 5: Interface Streamlit Principal ---\n",
        "\n",
        "st.set_page_config(layout=\"wide\") # Define o layout da página para usar a largura total\n",
        "st.title(\"👓 Assistente Inteligente para Óticas\")\n",
        "st.markdown(\"Bem-vindo ao seu assistente virtual de IA para otimizar o atendimento e a gestão da sua ótica!\")\n",
        "\n",
        "# --- Menu Lateral de Navegação ---\n",
        "st.sidebar.header(\"Navegação\")\n",
        "menu_options = [\n",
        "    \"Gerar Textos Inteligentes\",\n",
        "    \"Analisar Comentários\",\n",
        "    \"Cadastro de Clientes\",\n",
        "    \"Ver Clientes Cadastrados\"\n",
        "]\n",
        "choice = st.sidebar.radio(\"Escolha uma funcionalidade:\", menu_options)\n",
        "\n",
        "# --- Seção 1: Gerar Textos Inteligentes ---\n",
        "if choice == \"Gerar Textos Inteligentes\":\n",
        "    st.header(\"✍️ Gerar Textos para sua Ótica\")\n",
        "    st.write(\"Use o Gemini para criar conteúdo sob medida para FAQs, descrições de produtos ou posts para redes sociais.\")\n",
        "\n",
        "    # Opções para tipo de texto\n",
        "    text_type = st.selectbox(\"Tipo de Texto:\", [\"FAQ\", \"Descrição de Produto\", \"Post para Redes Sociais\"])\n",
        "    # Converte o tipo selecionado para o formato esperado pela função (e.g., \"Descrição de Produto\" -> \"descricao_produto\")\n",
        "    function_text_type = text_type.lower().replace(\" \", \"_\")\n",
        "\n",
        "    # Campo para entrada do usuário\n",
        "    user_input = st.text_area(f\"Digite a {'pergunta' if text_type == 'FAQ' else 'característica/tema'} aqui:\", height=150)\n",
        "\n",
        "    if st.button(\"Gerar Texto\"):\n",
        "        if user_input:\n",
        "            with st.spinner(\"Gerando texto com a inteligência do Gemini...\"):\n",
        "                generated_text = gerar_texto_otica(function_text_type, user_input)\n",
        "                st.subheader(\"Texto Gerado:\")\n",
        "                st.info(generated_text) # Exibe o texto gerado em uma caixa de informação\n",
        "        else:\n",
        "            st.warning(\"Por favor, digite algum texto para gerar o conteúdo.\")\n",
        "\n",
        "# --- Seção 2: Analisar Comentários (Aprimorada com Pontos de Melhoria e Agradecimento) ---\n",
        "elif choice == \"Analisar Comentários\":\n",
        "    st.header(\"💬 Analisar Comentários de Clientes e Pontos de Melhoria\")\n",
        "    st.write(\"Cole um comentário de cliente para que o Gemini analise o sentimento, identifique os tópicos e sugira pontos de melhoria se for negativo ou neutro.\")\n",
        "\n",
        "    comment_input = st.text_area(\"Cole o comentário do cliente aqui:\", height=150)\n",
        "\n",
        "    if st.button(\"Analisar Comentário\"):\n",
        "        if comment_input:\n",
        "            with st.spinner(\"Analisando o sentimento e buscando pontos de melhoria...\"):\n",
        "                analysis_result = analisar_sentimento_comentario(comment_input)\n",
        "                st.subheader(\"Resultado da Análise:\")\n",
        "                st.success(analysis_result) # Exibe a análise completa do Gemini\n",
        "\n",
        "                # Lógica para exibir pontos de melhoria e mensagens de agradecimento baseadas no sentimento\n",
        "                is_negative_or_neutral = \"Sentimento: Negativo\" in analysis_result or \"Sentimento: Neutro\" in analysis_result\n",
        "                has_improvement_points = \"Pontos de Melhoria:\" in analysis_result\n",
        "\n",
        "                if is_negative_or_neutral:\n",
        "                    st.markdown(\"---\") # Separador visual\n",
        "                    if has_improvement_points:\n",
        "                        st.warning(\"🚨 **Pontos de Melhoria Identificados:**\")\n",
        "                        # Tenta extrair e formatar os pontos de melhoria\n",
        "                        try:\n",
        "                            start_index = analysis_result.find(\"Pontos de Melhoria:\") + len(\"Pontos de Melhoria:\")\n",
        "                            improvement_points_raw = analysis_result[start_index:].strip()\n",
        "                            for point in improvement_points_raw.split('\\n'):\n",
        "                                if point.strip(): # Garante que a linha não está vazia\n",
        "                                    st.write(point)\n",
        "                        except Exception as e:\n",
        "                            st.error(f\"Não foi possível extrair pontos de melhoria específicos: {e}\")\n",
        "                            st.write(improvement_points_raw) # Exibe o bloco bruto se a extração falhar\n",
        "                    else:\n",
        "                        st.info(\"O comentário não apresentou pontos de melhoria explícitos pelo Gemini, mas o sentimento não é totalmente positivo.\")\n",
        "\n",
        "                    # Mensagem de Agradecimento para feedback não totalmente positivo\n",
        "                    st.markdown(\"---\")\n",
        "                    st.markdown(\"\"\"\n",
        "                    **Agradecemos muito por compartilhar seu feedback!**\n",
        "\n",
        "                    Sua opinião é fundamental para nós. Estamos **constantemente buscando aprimorar nossos serviços e atendimento** para que sua experiência seja cada vez melhor. Seus comentários nos ajudam a identificar as áreas onde podemos evoluir.\n",
        "\n",
        "                    Conte sempre com a **Ótica [Nome da Ótica]** para cuidar da sua visão com excelência!\n",
        "                    \"\"\")\n",
        "                    st.markdown(\"---\")\n",
        "\n",
        "                else: # Se o sentimento for puramente Positivo\n",
        "                    st.markdown(\"---\")\n",
        "                    st.balloons() # Pequena animação de balões para feedback positivo\n",
        "                    st.success(\"\"\"\n",
        "                    **Que ótimo! Agradecemos imensamente seu feedback positivo!**\n",
        "\n",
        "                    Ficamos muito felizes em saber que sua experiência foi excelente. Seus comentários nos motivam a continuar oferecendo o melhor em produtos e atendimento.\n",
        "\n",
        "                    Conte sempre com a **Ótica [Nome da Ótica]** para cuidar da sua visão com excelência!\n",
        "                    \"\"\")\n",
        "                    st.markdown(\"---\")\n",
        "\n",
        "        else:\n",
        "            st.warning(\"Por favor, cole um comentário para análise.\")\n",
        "\n",
        "# --- Seção 3: Cadastro de Clientes ---\n",
        "elif choice == \"Cadastro de Clientes\":\n",
        "    st.header(\"📝 Cadastrar Novo Cliente\")\n",
        "    st.write(\"Preencha os dados do cliente para adicioná-lo à sua base de contatos. Os dados serão salvos no seu Google Drive.\")\n",
        "\n",
        "    nome_cliente = st.text_input(\"Nome Completo do Cliente:\")\n",
        "    telefone_cliente = st.text_input(\"Telefone do Cliente (com DDD):\")\n",
        "\n",
        "    if st.button(\"Salvar Cliente\"):\n",
        "        if nome_cliente and telefone_cliente: # Validação básica para campos não vazios\n",
        "            # Validação simples de telefone (apenas números)\n",
        "            if telefone_cliente.replace(' ', '').replace('-', '').isdigit() and len(telefone_cliente) >= 8:\n",
        "                if salvar_cliente(nome_cliente, telefone_cliente):\n",
        "                    st.success(f\"Cliente '{nome_cliente}' cadastrado com sucesso! ✅\")\n",
        "                else:\n",
        "                    st.error(\"Erro ao cadastrar o cliente. Por favor, tente novamente ou verifique as permissões do Google Drive.\")\n",
        "            else:\n",
        "                st.warning(\"Por favor, digite um telefone válido (apenas números, mínimo 8 dígitos).\")\n",
        "        else:\n",
        "            st.warning(\"Por favor, preencha todos os campos para cadastrar o cliente.\")\n",
        "\n",
        "# --- Seção 4: Ver Clientes Cadastrados ---\n",
        "elif choice == \"Ver Clientes Cadastrados\":\n",
        "    st.header(\"📋 Clientes Cadastrados\")\n",
        "    st.write(\"Visualize a lista de todos os clientes que foram cadastrados no sistema.\")\n",
        "\n",
        "    clientes_df = ler_clientes_cadastrados()\n",
        "    if not clientes_df.empty:\n",
        "        st.dataframe(clientes_df, use_container_width=True) # Exibe a tabela de clientes de forma responsiva\n",
        "    else:\n",
        "        st.info(\"Nenhum cliente cadastrado ainda. Use a seção 'Cadastro de Clientes' para adicionar novos.\")\n",
        "\n",
        "# --- Mensagem de Agradecimento Final na Barra Lateral ---\n",
        "st.sidebar.markdown(\"---\") # Linha divisória para separar do menu\n",
        "st.sidebar.markdown(\"\"\"\n",
        "    **Obrigado por utilizar nosso assistente!**\n",
        "\n",
        "    Estamos sempre prontos para oferecer os melhores serviços e produtos para você e seus clientes.\n",
        "    Conte conosco para o futuro!\n",
        "\"\"\")"
      ],
      "metadata": {
        "colab": {
          "base_uri": "https://localhost:8080/"
        },
        "id": "P6Zty7VVEq_y",
        "outputId": "af017200-e2e7-450c-a062-b84443149ceb"
      },
      "execution_count": 10,
      "outputs": [
        {
          "output_type": "stream",
          "name": "stderr",
          "text": [
            "2025-05-17 21:12:59.688 Thread 'MainThread': missing ScriptRunContext! This warning can be ignored when running in bare mode.\n",
            "2025-05-17 21:12:59.689 Thread 'MainThread': missing ScriptRunContext! This warning can be ignored when running in bare mode.\n",
            "2025-05-17 21:12:59.690 Thread 'MainThread': missing ScriptRunContext! This warning can be ignored when running in bare mode.\n",
            "2025-05-17 21:12:59.692 Thread 'MainThread': missing ScriptRunContext! This warning can be ignored when running in bare mode.\n",
            "2025-05-17 21:12:59.692 Thread 'MainThread': missing ScriptRunContext! This warning can be ignored when running in bare mode.\n",
            "2025-05-17 21:12:59.693 Thread 'MainThread': missing ScriptRunContext! This warning can be ignored when running in bare mode.\n",
            "2025-05-17 21:12:59.694 Thread 'MainThread': missing ScriptRunContext! This warning can be ignored when running in bare mode.\n",
            "2025-05-17 21:12:59.697 Thread 'MainThread': missing ScriptRunContext! This warning can be ignored when running in bare mode.\n",
            "2025-05-17 21:12:59.698 Thread 'MainThread': missing ScriptRunContext! This warning can be ignored when running in bare mode.\n",
            "2025-05-17 21:12:59.699 Thread 'MainThread': missing ScriptRunContext! This warning can be ignored when running in bare mode.\n",
            "2025-05-17 21:12:59.701 Thread 'MainThread': missing ScriptRunContext! This warning can be ignored when running in bare mode.\n",
            "2025-05-17 21:12:59.702 Thread 'MainThread': missing ScriptRunContext! This warning can be ignored when running in bare mode.\n",
            "2025-05-17 21:12:59.703 Thread 'MainThread': missing ScriptRunContext! This warning can be ignored when running in bare mode.\n",
            "2025-05-17 21:12:59.706 Thread 'MainThread': missing ScriptRunContext! This warning can be ignored when running in bare mode.\n",
            "2025-05-17 21:12:59.707 Thread 'MainThread': missing ScriptRunContext! This warning can be ignored when running in bare mode.\n",
            "2025-05-17 21:12:59.708 Thread 'MainThread': missing ScriptRunContext! This warning can be ignored when running in bare mode.\n",
            "2025-05-17 21:12:59.709 Thread 'MainThread': missing ScriptRunContext! This warning can be ignored when running in bare mode.\n",
            "2025-05-17 21:12:59.709 Thread 'MainThread': missing ScriptRunContext! This warning can be ignored when running in bare mode.\n",
            "2025-05-17 21:12:59.710 Thread 'MainThread': missing ScriptRunContext! This warning can be ignored when running in bare mode.\n",
            "2025-05-17 21:12:59.711 Thread 'MainThread': missing ScriptRunContext! This warning can be ignored when running in bare mode.\n",
            "2025-05-17 21:12:59.712 Thread 'MainThread': missing ScriptRunContext! This warning can be ignored when running in bare mode.\n",
            "2025-05-17 21:12:59.713 Thread 'MainThread': missing ScriptRunContext! This warning can be ignored when running in bare mode.\n",
            "2025-05-17 21:12:59.714 Thread 'MainThread': missing ScriptRunContext! This warning can be ignored when running in bare mode.\n",
            "2025-05-17 21:12:59.715 Thread 'MainThread': missing ScriptRunContext! This warning can be ignored when running in bare mode.\n",
            "2025-05-17 21:12:59.716 Thread 'MainThread': missing ScriptRunContext! This warning can be ignored when running in bare mode.\n",
            "2025-05-17 21:12:59.716 Thread 'MainThread': missing ScriptRunContext! This warning can be ignored when running in bare mode.\n",
            "2025-05-17 21:12:59.717 Thread 'MainThread': missing ScriptRunContext! This warning can be ignored when running in bare mode.\n",
            "2025-05-17 21:12:59.718 Thread 'MainThread': missing ScriptRunContext! This warning can be ignored when running in bare mode.\n",
            "2025-05-17 21:12:59.719 Thread 'MainThread': missing ScriptRunContext! This warning can be ignored when running in bare mode.\n",
            "2025-05-17 21:12:59.719 Thread 'MainThread': missing ScriptRunContext! This warning can be ignored when running in bare mode.\n",
            "2025-05-17 21:12:59.720 Thread 'MainThread': missing ScriptRunContext! This warning can be ignored when running in bare mode.\n",
            "2025-05-17 21:12:59.720 Thread 'MainThread': missing ScriptRunContext! This warning can be ignored when running in bare mode.\n",
            "2025-05-17 21:12:59.721 Thread 'MainThread': missing ScriptRunContext! This warning can be ignored when running in bare mode.\n",
            "2025-05-17 21:12:59.726 Thread 'MainThread': missing ScriptRunContext! This warning can be ignored when running in bare mode.\n",
            "2025-05-17 21:12:59.727 Thread 'MainThread': missing ScriptRunContext! This warning can be ignored when running in bare mode.\n",
            "2025-05-17 21:12:59.727 Thread 'MainThread': missing ScriptRunContext! This warning can be ignored when running in bare mode.\n",
            "2025-05-17 21:12:59.728 Thread 'MainThread': missing ScriptRunContext! This warning can be ignored when running in bare mode.\n",
            "2025-05-17 21:12:59.729 Thread 'MainThread': missing ScriptRunContext! This warning can be ignored when running in bare mode.\n"
          ]
        },
        {
          "output_type": "execute_result",
          "data": {
            "text/plain": [
              "DeltaGenerator(_root_container=1, _parent=DeltaGenerator())"
            ]
          },
          "metadata": {},
          "execution_count": 10
        }
      ]
    },
    {
      "cell_type": "code",
      "source": [
        "# Este comando executa o seu arquivo Streamlit salvo no Google Drive.\n",
        "# CERTIFIQUE-SE DE MUDAR O CAMINHO PARA ONDE VOCÊ SALVOU SEU ARQUIVO .py\n",
        "!streamlit run /content/drive/MyDrive/meus_projetos/app_otica.py # <<<< ATENÇÃO: Altere este caminho!"
      ],
      "metadata": {
        "colab": {
          "base_uri": "https://localhost:8080/"
        },
        "id": "FAPes9YFEuZP",
        "outputId": "0f624a9c-a400-4b4d-c989-40d3a3e8e92e"
      },
      "execution_count": 15,
      "outputs": [
        {
          "output_type": "stream",
          "name": "stdout",
          "text": [
            "\n",
            "Collecting usage statistics. To deactivate, set browser.gatherUsageStats to false.\n",
            "\u001b[0m\n",
            "\u001b[0m\n",
            "\u001b[34m\u001b[1m  You can now view your Streamlit app in your browser.\u001b[0m\n",
            "\u001b[0m\n",
            "\u001b[34m  Local URL: \u001b[0m\u001b[1mhttp://localhost:8501\u001b[0m\n",
            "\u001b[34m  Network URL: \u001b[0m\u001b[1mhttp://172.28.0.12:8501\u001b[0m\n",
            "\u001b[34m  External URL: \u001b[0m\u001b[1mhttp://34.28.182.56:8501\u001b[0m\n",
            "\u001b[0m\n",
            "false\n",
            "\u001b[34m  Stopping...\u001b[0m\n",
            "^C\n"
          ]
        }
      ]
    }
  ]
}